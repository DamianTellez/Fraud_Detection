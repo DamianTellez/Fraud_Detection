{
 "cells": [
  {
   "cell_type": "markdown",
   "id": "d367b0fd-7b69-40b3-b617-16aa13c0cb73",
   "metadata": {},
   "source": [
    "# **Machine Learning for Fraud Detection.**\n",
    "\n",
    "##### **Notebook Author**: A.D. Téllez\n",
    "\n",
    "You can find me on GitHub for collaborations.\n",
    "\n",
    "# Model Development"
   ]
  },
  {
   "cell_type": "code",
   "execution_count": 84,
   "id": "6fd7a084-7481-4835-924d-8a96fee66e31",
   "metadata": {},
   "outputs": [],
   "source": [
    "import pandas as pd"
   ]
  },
  {
   "cell_type": "markdown",
   "id": "5745c3da-a61d-42a2-84dc-ca3fd716b47a",
   "metadata": {},
   "source": [
    "##### This data sets is under public domain."
   ]
  },
  {
   "cell_type": "code",
   "execution_count": 85,
   "id": "c03ee255-ab94-4657-844b-d951a1181abf",
   "metadata": {},
   "outputs": [
    {
     "data": {
      "text/html": [
       "<div>\n",
       "<style scoped>\n",
       "    .dataframe tbody tr th:only-of-type {\n",
       "        vertical-align: middle;\n",
       "    }\n",
       "\n",
       "    .dataframe tbody tr th {\n",
       "        vertical-align: top;\n",
       "    }\n",
       "\n",
       "    .dataframe thead th {\n",
       "        text-align: right;\n",
       "    }\n",
       "</style>\n",
       "<table border=\"1\" class=\"dataframe\">\n",
       "  <thead>\n",
       "    <tr style=\"text-align: right;\">\n",
       "      <th></th>\n",
       "      <th>distance_from_home</th>\n",
       "      <th>distance_from_last_transaction</th>\n",
       "      <th>ratio_to_median_purchase_price</th>\n",
       "      <th>repeat_retailer</th>\n",
       "      <th>used_chip</th>\n",
       "      <th>used_pin_number</th>\n",
       "      <th>online_order</th>\n",
       "      <th>fraud</th>\n",
       "    </tr>\n",
       "  </thead>\n",
       "  <tbody>\n",
       "    <tr>\n",
       "      <th>0</th>\n",
       "      <td>57.877857</td>\n",
       "      <td>0.311140</td>\n",
       "      <td>1.945940</td>\n",
       "      <td>1.0</td>\n",
       "      <td>1.0</td>\n",
       "      <td>0.0</td>\n",
       "      <td>0.0</td>\n",
       "      <td>0.0</td>\n",
       "    </tr>\n",
       "    <tr>\n",
       "      <th>1</th>\n",
       "      <td>10.829943</td>\n",
       "      <td>0.175592</td>\n",
       "      <td>1.294219</td>\n",
       "      <td>1.0</td>\n",
       "      <td>0.0</td>\n",
       "      <td>0.0</td>\n",
       "      <td>0.0</td>\n",
       "      <td>0.0</td>\n",
       "    </tr>\n",
       "    <tr>\n",
       "      <th>2</th>\n",
       "      <td>5.091079</td>\n",
       "      <td>0.805153</td>\n",
       "      <td>0.427715</td>\n",
       "      <td>1.0</td>\n",
       "      <td>0.0</td>\n",
       "      <td>0.0</td>\n",
       "      <td>1.0</td>\n",
       "      <td>0.0</td>\n",
       "    </tr>\n",
       "    <tr>\n",
       "      <th>3</th>\n",
       "      <td>2.247564</td>\n",
       "      <td>5.600044</td>\n",
       "      <td>0.362663</td>\n",
       "      <td>1.0</td>\n",
       "      <td>1.0</td>\n",
       "      <td>0.0</td>\n",
       "      <td>1.0</td>\n",
       "      <td>0.0</td>\n",
       "    </tr>\n",
       "    <tr>\n",
       "      <th>4</th>\n",
       "      <td>44.190936</td>\n",
       "      <td>0.566486</td>\n",
       "      <td>2.222767</td>\n",
       "      <td>1.0</td>\n",
       "      <td>1.0</td>\n",
       "      <td>0.0</td>\n",
       "      <td>1.0</td>\n",
       "      <td>0.0</td>\n",
       "    </tr>\n",
       "  </tbody>\n",
       "</table>\n",
       "</div>"
      ],
      "text/plain": [
       "   distance_from_home  distance_from_last_transaction  \\\n",
       "0           57.877857                        0.311140   \n",
       "1           10.829943                        0.175592   \n",
       "2            5.091079                        0.805153   \n",
       "3            2.247564                        5.600044   \n",
       "4           44.190936                        0.566486   \n",
       "\n",
       "   ratio_to_median_purchase_price  repeat_retailer  used_chip  \\\n",
       "0                        1.945940              1.0        1.0   \n",
       "1                        1.294219              1.0        0.0   \n",
       "2                        0.427715              1.0        0.0   \n",
       "3                        0.362663              1.0        1.0   \n",
       "4                        2.222767              1.0        1.0   \n",
       "\n",
       "   used_pin_number  online_order  fraud  \n",
       "0              0.0           0.0    0.0  \n",
       "1              0.0           0.0    0.0  \n",
       "2              0.0           1.0    0.0  \n",
       "3              0.0           1.0    0.0  \n",
       "4              0.0           1.0    0.0  "
      ]
     },
     "execution_count": 85,
     "metadata": {},
     "output_type": "execute_result"
    }
   ],
   "source": [
    "card_df = pd.read_csv('card_transdata.csv')\n",
    "\n",
    "#quick look to our data.\n",
    "card_df.head() "
   ]
  },
  {
   "cell_type": "markdown",
   "id": "a1628ff8-d13d-4173-ab5a-62926fbf02a0",
   "metadata": {},
   "source": [
    "### Preparing the data for the model"
   ]
  },
  {
   "cell_type": "markdown",
   "id": "0e8bf26c-40ee-403d-acb8-27e467d0a70a",
   "metadata": {
    "jp-MarkdownHeadingCollapsed": true
   },
   "source": [
    "#### 1. Total observations in our database."
   ]
  },
  {
   "cell_type": "code",
   "execution_count": 86,
   "id": "6b2b8246-61fe-4268-8afe-fe1284118cef",
   "metadata": {},
   "outputs": [
    {
     "name": "stdout",
     "output_type": "stream",
     "text": [
      "1000000 observations.\n"
     ]
    }
   ],
   "source": [
    "print(card_df.shape[0],\"observations.\")"
   ]
  },
  {
   "cell_type": "markdown",
   "id": "87ace146-1198-42f0-96e4-f82b09e97614",
   "metadata": {
    "jp-MarkdownHeadingCollapsed": true
   },
   "source": [
    "#### 2. Looking for null values.\n",
    "\n",
    "Sometimes we have null values in our data sets. Since they can compromise the performance of our model, we need to identify and treat them properly. Just deleting is not always the best solution."
   ]
  },
  {
   "cell_type": "code",
   "execution_count": 87,
   "id": "900bdfdb-ed7e-4fab-93b9-4beb37c34757",
   "metadata": {},
   "outputs": [
    {
     "data": {
      "text/plain": [
       "distance_from_home                0\n",
       "distance_from_last_transaction    0\n",
       "ratio_to_median_purchase_price    0\n",
       "repeat_retailer                   0\n",
       "used_chip                         0\n",
       "used_pin_number                   0\n",
       "online_order                      0\n",
       "fraud                             0\n",
       "dtype: int64"
      ]
     },
     "execution_count": 87,
     "metadata": {},
     "output_type": "execute_result"
    }
   ],
   "source": [
    "card_df.isnull().sum()"
   ]
  },
  {
   "cell_type": "markdown",
   "id": "ca29408f-063e-41b8-bd9f-d28a73f840e4",
   "metadata": {},
   "source": [
    "#### 3. Fraud incidences distribution on data set"
   ]
  },
  {
   "cell_type": "code",
   "execution_count": 88,
   "id": "80db07c9-51e4-40b6-b263-12e56285d35c",
   "metadata": {},
   "outputs": [
    {
     "data": {
      "text/html": [
       "<div>\n",
       "<style scoped>\n",
       "    .dataframe tbody tr th:only-of-type {\n",
       "        vertical-align: middle;\n",
       "    }\n",
       "\n",
       "    .dataframe tbody tr th {\n",
       "        vertical-align: top;\n",
       "    }\n",
       "\n",
       "    .dataframe thead th {\n",
       "        text-align: right;\n",
       "    }\n",
       "</style>\n",
       "<table border=\"1\" class=\"dataframe\">\n",
       "  <thead>\n",
       "    <tr style=\"text-align: right;\">\n",
       "      <th></th>\n",
       "      <th>Number of cases</th>\n",
       "    </tr>\n",
       "    <tr>\n",
       "      <th>fraud</th>\n",
       "      <th></th>\n",
       "    </tr>\n",
       "  </thead>\n",
       "  <tbody>\n",
       "    <tr>\n",
       "      <th>0.0</th>\n",
       "      <td>912597</td>\n",
       "    </tr>\n",
       "    <tr>\n",
       "      <th>1.0</th>\n",
       "      <td>87403</td>\n",
       "    </tr>\n",
       "  </tbody>\n",
       "</table>\n",
       "</div>"
      ],
      "text/plain": [
       "       Number of cases\n",
       "fraud                 \n",
       "0.0             912597\n",
       "1.0              87403"
      ]
     },
     "execution_count": 88,
     "metadata": {},
     "output_type": "execute_result"
    }
   ],
   "source": [
    "fraud_df = card_df.value_counts(card_df['fraud']).rename(index = 'Number of cases').to_frame() #counts how many incidences belongs to each cases.  \n",
    "fraud_df"
   ]
  },
  {
   "cell_type": "code",
   "execution_count": 89,
   "id": "b46f1c02-dde3-4b71-9b8a-cfa4c5b67ae0",
   "metadata": {},
   "outputs": [
    {
     "data": {
      "text/plain": [
       "array([<Axes: >], dtype=object)"
      ]
     },
     "execution_count": 89,
     "metadata": {},
     "output_type": "execute_result"
    },
    {
     "data": {
      "image/png": "[encoded data removed]",
      "text/plain": [
       "<Figure size 310x310 with 1 Axes>"
      ]
     },
     "metadata": {},
     "output_type": "display_data"
    }
   ],
   "source": [
    "#Visual distribution \n",
    "colors = ['slategrey','lightpink']\n",
    "fraud_df.plot(kind='pie',subplots = 'True', autopct='%1.0f%%',colors=colors,labels = {'Legit':0,'Fraud':1},ylabel='',figsize=(3.1,3.1))"
   ]
  },
  {
   "cell_type": "markdown",
   "id": "5019d149-1b5e-4613-9731-e589c770df5d",
   "metadata": {
    "tags": []
   },
   "source": [
    "####  Aiming for an equal outcome distribution \n",
    "\n",
    "There's an unfair distribution between normal and fraudulent transactions. This can bias our model."
   ]
  },
  {
   "cell_type": "markdown",
   "id": "41c490b0-f78c-4114-bad6-c8708468e349",
   "metadata": {},
   "source": [
    "##### Separate the two classes "
   ]
  },
  {
   "cell_type": "code",
   "execution_count": 90,
   "id": "d6a6e7b8-73c6-45cf-ab4a-2b8232fae30f",
   "metadata": {},
   "outputs": [
    {
     "data": {
      "text/plain": [
       "count    912597.000000\n",
       "mean         22.832976\n",
       "std          52.828655\n",
       "min           0.004874\n",
       "25%           3.828942\n",
       "50%           9.673847\n",
       "75%          24.158057\n",
       "max        8777.136420\n",
       "Name: distance_from_home, dtype: float64"
      ]
     },
     "execution_count": 90,
     "metadata": {},
     "output_type": "execute_result"
    }
   ],
   "source": [
    "# separating the normal transactions\n",
    "legit = card_df[card_df.fraud == 0]\n",
    "\n",
    "#look some statistical info about normal transactions\n",
    "legit.distance_from_home.describe()"
   ]
  },
  {
   "cell_type": "code",
   "execution_count": 91,
   "id": "359e5e55-e1ee-4860-bd94-1598e0b52756",
   "metadata": {},
   "outputs": [
    {
     "data": {
      "text/plain": [
       "count    87403.000000\n",
       "mean        66.261876\n",
       "std        134.391608\n",
       "min          0.025847\n",
       "25%          4.585729\n",
       "50%         15.454219\n",
       "75%        101.110104\n",
       "max      10632.723672\n",
       "Name: distance_from_home, dtype: float64"
      ]
     },
     "execution_count": 91,
     "metadata": {},
     "output_type": "execute_result"
    }
   ],
   "source": [
    "# separating the normal transactions\n",
    "fraud = card_df[card_df.fraud == 1]\n",
    "\n",
    "#look some statistical info about fraudulent transactions\n",
    "fraud.distance_from_home.describe()"
   ]
  },
  {
   "cell_type": "markdown",
   "id": "81df0866-89cf-4c34-8b9a-d36dff76210b",
   "metadata": {},
   "source": [
    "**After that, we see fraudulent transactions has a correlation with the distance.** \n",
    "\n",
    "We can extend this exploratory analysis for other attributes on the dataframe. We selected just one in order to eliminate distracting values.   "
   ]
  },
  {
   "cell_type": "markdown",
   "id": "162f07c7-aaee-4f66-9f79-7d3a748ee88c",
   "metadata": {},
   "source": [
    "##### Pick an equal distribution of each class"
   ]
  },
  {
   "cell_type": "code",
   "execution_count": 92,
   "id": "4bce943d-2463-4e35-8d64-7fcc8ec1e161",
   "metadata": {},
   "outputs": [],
   "source": [
    "legit_sample = legit.sample(n = 87403) #n is the number of random observations to make a sample set. Also n = number of fraudulent transactions"
   ]
  },
  {
   "cell_type": "markdown",
   "id": "00eba46b-e42e-4087-8316-e280c6c11b8f",
   "metadata": {},
   "source": [
    "We join the now 2 balanced datasets:\n",
    "\n",
    "**legit_sample** ---> the reduced dataset of legit transactions\n",
    "\n",
    "**fraud** ---> dataset with fraudulent transactions"
   ]
  },
  {
   "cell_type": "code",
   "execution_count": 93,
   "id": "67c3d2e1-68fd-41e3-82a8-ceeece268bf8",
   "metadata": {},
   "outputs": [],
   "source": [
    "sample = pd.concat( [legit_sample, fraud] , axis = 0) # axis = 0 concatenate rows "
   ]
  },
  {
   "cell_type": "code",
   "execution_count": 94,
   "id": "ce027df9-451c-4514-99b9-bc3f7eb3e88d",
   "metadata": {},
   "outputs": [],
   "source": [
    "sample_table = sample.value_counts(sample['fraud'].rename(index = 'Number of cases'))"
   ]
  },
  {
   "cell_type": "code",
   "execution_count": 95,
   "id": "886ac523-32f8-4fc6-a59f-217b47acb9a7",
   "metadata": {},
   "outputs": [
    {
     "data": {
      "text/plain": [
       "Number of cases\n",
       "0.0    87403\n",
       "1.0    87403\n",
       "dtype: int64"
      ]
     },
     "execution_count": 95,
     "metadata": {},
     "output_type": "execute_result"
    },
    {
     "data": {
      "image/png": "[encoded data removed]",
      "text/plain": [
       "<Figure size 250x250 with 1 Axes>"
      ]
     },
     "metadata": {},
     "output_type": "display_data"
    }
   ],
   "source": [
    "colors = ['slategrey','lightpink']\n",
    "sample_table.plot(kind='pie',subplots = 'True', autopct='%1.0f%%',colors=colors,labels = {'Legit':0,'Fraud':1},ylabel='',figsize=(2.5,2.5))\n",
    "sample_table"
   ]
  },
  {
   "cell_type": "markdown",
   "id": "71a51a99-ab4d-4a2b-85de-f39c14942fdd",
   "metadata": {},
   "source": [
    "#### 4. Standardization\n",
    "\n",
    "This process prepares our data in such a way that the mean is zero. This sets our values within the range [-1,1] preventing extreme values from weighting more in our model.  "
   ]
  },
  {
   "cell_type": "code",
   "execution_count": 96,
   "id": "cfc393e6-6dd9-49c6-9577-86e1832c8dd4",
   "metadata": {},
   "outputs": [],
   "source": [
    "# allows us to standardize our data.\n",
    "from sklearn import preprocessing "
   ]
  },
  {
   "cell_type": "markdown",
   "id": "a5342b6a-1f00-4fa9-8293-0157b352d1f1",
   "metadata": {},
   "source": [
    "#### Understanding the process\n",
    "\n",
    "When setting our model, we need some input data called independent variables. But we also need to define what would be the expected outcome. The variable we would like to predict, categorize or cluster is called the dependent variable.  "
   ]
  },
  {
   "cell_type": "code",
   "execution_count": 97,
   "id": "f83dd9e1-0398-4b56-aa18-993f2fc8a9fd",
   "metadata": {},
   "outputs": [],
   "source": [
    "ind_var = sample.drop(columns='fraud',axis=1)"
   ]
  },
  {
   "cell_type": "code",
   "execution_count": 98,
   "id": "6b4980c5-8c7c-4fd7-b0bb-9a621caa9a6f",
   "metadata": {},
   "outputs": [
    {
     "data": {
      "text/plain": [
       "array([[-0.27064195, -0.16167664, -0.75371817, ..., -0.66671625,\n",
       "        -0.24382282,  0.52497846],\n",
       "       [-0.42608156, -0.19583193, -0.25279702, ..., -0.66671625,\n",
       "        -0.24382282,  0.52497846],\n",
       "       [ 0.2022255 ,  1.44236515, -0.70753123, ..., -0.66671625,\n",
       "         4.1013389 ,  0.52497846],\n",
       "       ...,\n",
       "       [ 0.76873172, -0.23691355, -0.69004062, ..., -0.66671625,\n",
       "        -0.24382282,  0.52497846],\n",
       "       [ 0.0662173 , -0.14096354,  5.51457726, ..., -0.66671625,\n",
       "        -0.24382282,  0.52497846],\n",
       "       [-0.27616093, -0.18448319,  1.53560446, ...,  1.49988846,\n",
       "        -0.24382282,  0.52497846]])"
      ]
     },
     "execution_count": 98,
     "metadata": {},
     "output_type": "execute_result"
    }
   ],
   "source": [
    "transform = preprocessing.StandardScaler()  # performs the standardization.\n",
    "\n",
    "X = transform.fit_transform(ind_var) #Independent variables on the x-axis.\n",
    "X"
   ]
  },
  {
   "cell_type": "code",
   "execution_count": 99,
   "id": "1bbbdc62-a261-4c1a-ba73-574c4622a51c",
   "metadata": {},
   "outputs": [
    {
     "data": {
      "text/plain": [
       "array([0., 0., 0., ..., 1., 1., 1.])"
      ]
     },
     "execution_count": 99,
     "metadata": {},
     "output_type": "execute_result"
    }
   ],
   "source": [
    "Y = sample['fraud'].to_numpy()\n",
    "Y"
   ]
  },
  {
   "cell_type": "markdown",
   "id": "395706d3-4b8a-454c-befd-4f3b5941996f",
   "metadata": {},
   "source": [
    "#### 5. Splitting into train data and test data "
   ]
  },
  {
   "cell_type": "code",
   "execution_count": 100,
   "id": "0f9e6931-b3e5-4079-ba9a-b4a2882ddf3d",
   "metadata": {},
   "outputs": [],
   "source": [
    "# Allows us to split our data into training and testing data\n",
    "from sklearn.model_selection import train_test_split\n",
    "from sklearn.linear_model import LogisticRegression\n",
    "from sklearn.metrics import accuracy_score"
   ]
  },
  {
   "cell_type": "code",
   "execution_count": 101,
   "id": "1436a008-c657-4b95-8fda-dbee431fc346",
   "metadata": {},
   "outputs": [],
   "source": [
    "X_train, X_test, Y_train, Y_test = train_test_split (X, Y, test_size = 0.2, stratify = Y, random_state = 2)"
   ]
  },
  {
   "cell_type": "markdown",
   "id": "86df90a2-4092-406e-a619-8a51f2f5dab5",
   "metadata": {},
   "source": [
    "## Logistic Regression Model"
   ]
  },
  {
   "cell_type": "code",
   "execution_count": 102,
   "id": "c55dec45-b11c-414f-97bd-00d6ead6b15c",
   "metadata": {},
   "outputs": [],
   "source": [
    "model = LogisticRegression()"
   ]
  },
  {
   "cell_type": "markdown",
   "id": "1b82ffed-56c1-4299-a88c-35415afa4141",
   "metadata": {
    "tags": []
   },
   "source": [
    "### Model training"
   ]
  },
  {
   "cell_type": "code",
   "execution_count": 103,
   "id": "69dc0dcc-0160-4f86-98a7-8fd5af51290e",
   "metadata": {},
   "outputs": [
    {
     "data": {
      "text/html": [
       "<style>#sk-container-id-3 {color: black;}#sk-container-id-3 pre{padding: 0;}#sk-container-id-3 div.sk-toggleable {background-color: white;}#sk-container-id-3 label.sk-toggleable__label {cursor: pointer;display: block;width: 100%;margin-bottom: 0;padding: 0.3em;box-sizing: border-box;text-align: center;}#sk-container-id-3 label.sk-toggleable__label-arrow:before {content: \"▸\";float: left;margin-right: 0.25em;color: #696969;}#sk-container-id-3 label.sk-toggleable__label-arrow:hover:before {color: black;}#sk-container-id-3 div.sk-estimator:hover label.sk-toggleable__label-arrow:before {color: black;}#sk-container-id-3 div.sk-toggleable__content {max-height: 0;max-width: 0;overflow: hidden;text-align: left;background-color: #f0f8ff;}#sk-container-id-3 div.sk-toggleable__content pre {margin: 0.2em;color: black;border-radius: 0.25em;background-color: #f0f8ff;}#sk-container-id-3 input.sk-toggleable__control:checked~div.sk-toggleable__content {max-height: 200px;max-width: 100%;overflow: auto;}#sk-container-id-3 input.sk-toggleable__control:checked~label.sk-toggleable__label-arrow:before {content: \"▾\";}#sk-container-id-3 div.sk-estimator input.sk-toggleable__control:checked~label.sk-toggleable__label {background-color: #d4ebff;}#sk-container-id-3 div.sk-label input.sk-toggleable__control:checked~label.sk-toggleable__label {background-color: #d4ebff;}#sk-container-id-3 input.sk-hidden--visually {border: 0;clip: rect(1px 1px 1px 1px);clip: rect(1px, 1px, 1px, 1px);height: 1px;margin: -1px;overflow: hidden;padding: 0;position: absolute;width: 1px;}#sk-container-id-3 div.sk-estimator {font-family: monospace;background-color: #f0f8ff;border: 1px dotted black;border-radius: 0.25em;box-sizing: border-box;margin-bottom: 0.5em;}#sk-container-id-3 div.sk-estimator:hover {background-color: #d4ebff;}#sk-container-id-3 div.sk-parallel-item::after {content: \"\";width: 100%;border-bottom: 1px solid gray;flex-grow: 1;}#sk-container-id-3 div.sk-label:hover label.sk-toggleable__label {background-color: #d4ebff;}#sk-container-id-3 div.sk-serial::before {content: \"\";position: absolute;border-left: 1px solid gray;box-sizing: border-box;top: 0;bottom: 0;left: 50%;z-index: 0;}#sk-container-id-3 div.sk-serial {display: flex;flex-direction: column;align-items: center;background-color: white;padding-right: 0.2em;padding-left: 0.2em;position: relative;}#sk-container-id-3 div.sk-item {position: relative;z-index: 1;}#sk-container-id-3 div.sk-parallel {display: flex;align-items: stretch;justify-content: center;background-color: white;position: relative;}#sk-container-id-3 div.sk-item::before, #sk-container-id-3 div.sk-parallel-item::before {content: \"\";position: absolute;border-left: 1px solid gray;box-sizing: border-box;top: 0;bottom: 0;left: 50%;z-index: -1;}#sk-container-id-3 div.sk-parallel-item {display: flex;flex-direction: column;z-index: 1;position: relative;background-color: white;}#sk-container-id-3 div.sk-parallel-item:first-child::after {align-self: flex-end;width: 50%;}#sk-container-id-3 div.sk-parallel-item:last-child::after {align-self: flex-start;width: 50%;}#sk-container-id-3 div.sk-parallel-item:only-child::after {width: 0;}#sk-container-id-3 div.sk-dashed-wrapped {border: 1px dashed gray;margin: 0 0.4em 0.5em 0.4em;box-sizing: border-box;padding-bottom: 0.4em;background-color: white;}#sk-container-id-3 div.sk-label label {font-family: monospace;font-weight: bold;display: inline-block;line-height: 1.2em;}#sk-container-id-3 div.sk-label-container {text-align: center;}#sk-container-id-3 div.sk-container {/* jupyter's `normalize.less` sets `[hidden] { display: none; }` but bootstrap.min.css set `[hidden] { display: none !important; }` so we also need the `!important` here to be able to override the default hidden behavior on the sphinx rendered scikit-learn.org. See: https://github.com/scikit-learn/scikit-learn/issues/21755 */display: inline-block !important;position: relative;}#sk-container-id-3 div.sk-text-repr-fallback {display: none;}</style><div id=\"sk-container-id-3\" class=\"sk-top-container\"><div class=\"sk-text-repr-fallback\"><pre>LogisticRegression()</pre><b>In a Jupyter environment, please rerun this cell to show the HTML representation or trust the notebook. <br />On GitHub, the HTML representation is unable to render, please try loading this page with nbviewer.org.</b></div><div class=\"sk-container\" hidden><div class=\"sk-item\"><div class=\"sk-estimator sk-toggleable\"><input class=\"sk-toggleable__control sk-hidden--visually\" id=\"sk-estimator-id-3\" type=\"checkbox\" checked><label for=\"sk-estimator-id-3\" class=\"sk-toggleable__label sk-toggleable__label-arrow\">LogisticRegression</label><div class=\"sk-toggleable__content\"><pre>LogisticRegression()</pre></div></div></div></div></div>"
      ],
      "text/plain": [
       "LogisticRegression()"
      ]
     },
     "execution_count": 103,
     "metadata": {},
     "output_type": "execute_result"
    }
   ],
   "source": [
    "model.fit(X_train,Y_train)"
   ]
  },
  {
   "cell_type": "code",
   "execution_count": 104,
   "id": "470b45e7-fa4d-4e40-bbdb-ab4201a7745e",
   "metadata": {},
   "outputs": [
    {
     "data": {
      "text/plain": [
       "{'C': 1.0,\n",
       " 'class_weight': None,\n",
       " 'dual': False,\n",
       " 'fit_intercept': True,\n",
       " 'intercept_scaling': 1,\n",
       " 'l1_ratio': None,\n",
       " 'max_iter': 100,\n",
       " 'multi_class': 'auto',\n",
       " 'n_jobs': None,\n",
       " 'penalty': 'l2',\n",
       " 'random_state': None,\n",
       " 'solver': 'lbfgs',\n",
       " 'tol': 0.0001,\n",
       " 'verbose': 0,\n",
       " 'warm_start': False}"
      ]
     },
     "execution_count": 104,
     "metadata": {},
     "output_type": "execute_result"
    }
   ],
   "source": [
    "model.get_params(deep=True)"
   ]
  },
  {
   "cell_type": "markdown",
   "id": "b891f08e-48c1-4092-83ce-e4d916376e19",
   "metadata": {
    "tags": []
   },
   "source": [
    "### Model evaluation"
   ]
  },
  {
   "cell_type": "markdown",
   "id": "d3503733-c028-48a2-bef1-36501a06a07e",
   "metadata": {},
   "source": [
    "We use this method in order to predict the value for Y_train which is known, using X_train as input for our model. Then we compare it to see how accurately it performed. "
   ]
  },
  {
   "cell_type": "markdown",
   "id": "3c341c04-d5ca-44e9-9374-6302eb3592ad",
   "metadata": {},
   "source": [
    "##### Training Accuracy"
   ]
  },
  {
   "cell_type": "code",
   "execution_count": 105,
   "id": "86a73ce9-d925-475d-9b84-ab7160ad1560",
   "metadata": {},
   "outputs": [],
   "source": [
    "Y_train_prediction = model.predict(X_train)\n",
    "training_accuracy = accuracy_score(Y_train_prediction, Y_train)"
   ]
  },
  {
   "cell_type": "code",
   "execution_count": 106,
   "id": "47615d82-6af8-4633-9bed-6cd842d367d8",
   "metadata": {},
   "outputs": [
    {
     "name": "stdout",
     "output_type": "stream",
     "text": [
      "Training Accuracy:  0.9417279254025914\n"
     ]
    }
   ],
   "source": [
    "print(\"Training Accuracy: \",training_accuracy)"
   ]
  },
  {
   "cell_type": "markdown",
   "id": "adcca1b1-df30-49a4-a190-5234fba9abde",
   "metadata": {},
   "source": [
    "##### Test Accuracy"
   ]
  },
  {
   "cell_type": "code",
   "execution_count": 107,
   "id": "30656401-e963-499e-bb8f-c7d5450e18bb",
   "metadata": {},
   "outputs": [],
   "source": [
    "Y_test_prediction = model.predict(X_test)\n",
    "testing_accuracy = accuracy_score(Y_test_prediction, Y_test)"
   ]
  },
  {
   "cell_type": "code",
   "execution_count": 108,
   "id": "ecd4e876-5dd7-4971-bf4b-a233efa7f5fb",
   "metadata": {},
   "outputs": [
    {
     "name": "stdout",
     "output_type": "stream",
     "text": [
      "Test Accuracy:  0.9427378296436131\n"
     ]
    }
   ],
   "source": [
    "print(\"Test Accuracy: \",testing_accuracy)"
   ]
  },
  {
   "cell_type": "markdown",
   "id": "d652015a-a400-46ba-969f-60b7d855d251",
   "metadata": {},
   "source": [
    "Our **accuracy is similar** for both train and test data.\n",
    "\n",
    "- Train accuracy >> Test accuracy implies an Overfitted model.\n",
    "- Train accuracy << Test accuracy implies an Underfitted model."
   ]
  },
  {
   "cell_type": "markdown",
   "id": "9555985a-a564-4ebb-b33a-c4f983a3b1e6",
   "metadata": {},
   "source": [
    "##### Confusion Matrix"
   ]
  },
  {
   "cell_type": "code",
   "execution_count": 109,
   "id": "6d9981de-5a0a-46ad-a59f-b810d3847205",
   "metadata": {},
   "outputs": [],
   "source": [
    "import matplotlib.pyplot as plt\n",
    "from sklearn.metrics import confusion_matrix, ConfusionMatrixDisplay"
   ]
  },
  {
   "cell_type": "code",
   "execution_count": 110,
   "id": "b5006017-bbde-4634-b857-5f37f518feb6",
   "metadata": {},
   "outputs": [],
   "source": [
    "cm = confusion_matrix(Y_test,Y_test_prediction, labels = model.classes_)"
   ]
  },
  {
   "cell_type": "code",
   "execution_count": 111,
   "id": "7c05ee10-4390-49d6-890a-46da5a3f722d",
   "metadata": {},
   "outputs": [],
   "source": [
    "displayCM = ConfusionMatrixDisplay(confusion_matrix = cm, display_labels = model.classes_)"
   ]
  },
  {
   "cell_type": "code",
   "execution_count": 112,
   "id": "011e93ca-da7e-4f88-b225-b8fab90d84cf",
   "metadata": {},
   "outputs": [
    {
     "data": {
      "text/plain": [
       "<sklearn.metrics._plot.confusion_matrix.ConfusionMatrixDisplay at 0x1b23c317be0>"
      ]
     },
     "execution_count": 112,
     "metadata": {},
     "output_type": "execute_result"
    },
    {
     "data": {
      "image/png": "[encoded data removed]",
      "text/plain": [
       "<Figure size 640x480 with 2 Axes>"
      ]
     },
     "metadata": {},
     "output_type": "display_data"
    }
   ],
   "source": [
    "displayCM.plot(cmap='Blues_r') #plot the confusion matrix changing the color scale"
   ]
  }
 ],
 "metadata": {
  "kernelspec": {
   "display_name": "Python 3 (ipykernel)",
   "language": "python",
   "name": "python3"
  },
  "language_info": {
   "codemirror_mode": {
    "name": "ipython",
    "version": 3
   },
   "file_extension": ".py",
   "mimetype": "text/x-python",
   "name": "python",
   "nbconvert_exporter": "python",
   "pygments_lexer": "ipython3",
   "version": "3.10.2"
  }
 },
 "nbformat": 4,
 "nbformat_minor": 5
}
